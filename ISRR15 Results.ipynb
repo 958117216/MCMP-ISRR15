{
 "cells": [
  {
   "cell_type": "code",
   "execution_count": 1,
   "metadata": {
    "collapsed": false
   },
   "outputs": [
    {
     "name": "stderr",
     "output_type": "stream",
     "text": [
      "INFO: Loading help data...\n",
      "Warning: Method definition inv(Matrix2x2{T},) in module ImmutableArrays at /Users/schmrlng/.julia/v0.3/ImmutableArrays/src/generate_arrays.jl:479 overwritten in module MotionPlanning at /Users/schmrlng/.julia/v0.3/MotionPlanning/src/collisioncheckers/SAT2D.jl:9.\n"
     ]
    }
   ],
   "source": [
    "using PyPlot\n",
    "using MotionPlanning\n",
    "using ImmutableArrays\n",
    "using ProfileView\n",
    "include(Pkg.dir(\"MotionPlanning\")*\"/test/obstaclesets/2D.jl\")\n",
    "include(Pkg.dir(\"MotionPlanning\")*\"/test/obstaclesets/ND.jl\")"
   ]
  },
  {
   "cell_type": "code",
   "execution_count": 2,
   "metadata": {
    "collapsed": false
   },
   "outputs": [
    {
     "data": {
      "text/plain": [
       "show (generic function with 143 methods)"
      ]
     },
     "execution_count": 2,
     "metadata": {},
     "output_type": "execute_result"
    }
   ],
   "source": [
    "include(\"discreteLQG.jl\")\n",
    "include(\"collisionprobability.jl\")\n",
    "include(\"printhelpers.jl\")"
   ]
  },
  {
   "cell_type": "code",
   "execution_count": null,
   "metadata": {
    "collapsed": true
   },
   "outputs": [],
   "source": [
    "function run_tests(N=20)\n",
    "    P = MPProblem(UnitHypercube(2), Vector2(.1,.1), PointGoal([.9, .9]), PointRobot2D(ISRR_POLY));\n",
    "    DLQG = SingleIntegrator(2, nsf=0.4, dt=.03);\n",
    "    results = {}\n",
    "\n",
    "    P.V = defaultNN(P.SS, P.init)\n",
    "\n",
    "    tic()\n",
    "    fmtstar!(P, 2000, connections = :R, rm = 1.5)\n",
    "    plan_cache_time = toq()\n",
    "\n",
    "    for n in 1:N\n",
    "        push!(BSresults, binary_search_CP(P, .05, DLQG, 500, lo = 0., hi = .05, verbose = false))\n",
    "    end\n",
    "end"
   ]
  }
 ],
 "metadata": {
  "kernelspec": {
   "display_name": "Julia 0.3.8-pre",
   "language": "julia",
   "name": "julia 0.3"
  },
  "language_info": {
   "name": "julia",
   "version": "0.3.8"
  }
 },
 "nbformat": 4,
 "nbformat_minor": 0
}
